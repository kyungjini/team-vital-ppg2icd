{
 "cells": [
  {
   "cell_type": "code",
   "execution_count": 2,
   "metadata": {},
   "outputs": [],
   "source": [
    "import os\n",
    "import csv\n",
    "import yaml"
   ]
  },
  {
   "cell_type": "code",
   "execution_count": 4,
   "metadata": {},
   "outputs": [],
   "source": [
    "with open(\"./../config.yaml\") as f:\n",
    "    cfg = yaml.safe_load(f)\n",
    "    \n",
    "DATA_PATH = cfg[\"paths\"][\"waveform_dir\"]\n",
    "\n",
    "SAVE_FILE = \"./../mimiciv_wfdb_meta.csv\""
   ]
  },
  {
   "cell_type": "code",
   "execution_count": 5,
   "metadata": {},
   "outputs": [],
   "source": [
    "with open(SAVE_FILE, \"w\", newline=\"\") as csvfile:\n",
    "    writer = csv.DictWriter(csvfile,\n",
    "        fieldnames=[\"subject_id\",\"record_id\",\"hadm_id\"])\n",
    "    writer.writeheader()\n",
    "\n",
    "    for prefix in os.listdir(DATA_PATH):\n",
    "        prefix_path = os.path.join(DATA_PATH, prefix)\n",
    "        if not os.path.isdir(prefix_path) or not prefix.startswith(\"p\"):\n",
    "            continue\n",
    "\n",
    "        for subj_dir in os.listdir(prefix_path):\n",
    "            subj_path = os.path.join(prefix_path, subj_dir)\n",
    "            if not os.path.isdir(subj_path) or not subj_dir.startswith(prefix):\n",
    "                continue\n",
    "            subject_id = subj_dir[1:] # delete the 'p' prefix\n",
    "            \n",
    "            for rec in os.listdir(subj_path):\n",
    "                rec_path = os.path.join(subj_path, rec)\n",
    "                hea_file = os.path.join(rec_path, rec + \".hea\")\n",
    "                if not os.path.isfile(hea_file):\n",
    "                    continue\n",
    "                \n",
    "                hadm_id = None\n",
    "                with open(hea_file) as f:\n",
    "                    for line in f:\n",
    "                        if line.startswith(\"# hadm_id\"):\n",
    "                            hadm_id = line.split()[2]\n",
    "                            break\n",
    "                if hadm_id is None:\n",
    "                    continue\n",
    "                writer.writerow({\n",
    "                    \"subject_id\": subject_id,\n",
    "                    \"record_id\": rec,\n",
    "                    \"hadm_id\": hadm_id\n",
    "                })"
   ]
  }
 ],
 "metadata": {
  "kernelspec": {
   "display_name": "ppg2icd",
   "language": "python",
   "name": "python3"
  },
  "language_info": {
   "codemirror_mode": {
    "name": "ipython",
    "version": 3
   },
   "file_extension": ".py",
   "mimetype": "text/x-python",
   "name": "python",
   "nbconvert_exporter": "python",
   "pygments_lexer": "ipython3",
   "version": "3.10.18"
  }
 },
 "nbformat": 4,
 "nbformat_minor": 2
}
